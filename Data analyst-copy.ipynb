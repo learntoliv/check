{
 "cells": [
  {
   "cell_type": "code",
   "execution_count": null,
   "outputs": [],
   "source": [
    "from matplotlib import pyplot as plt\n",
    "from sklearn.linear_model import LinearRegression\n",
    "import numpy as np"
   ],
   "metadata": {
    "collapsed": false,
    "pycharm": {
     "name": "#%% - import library\n"
    }
   }
  },
  {
   "cell_type": "code",
   "execution_count": null,
   "outputs": [],
   "source": [
    "#reshape(-1,1) de bien data thanh dang cot\n",
    "income = np.array([8,9,10,11,12,15,15,16,17,18,18,20,24,25,25]).reshape(-1,1)\n",
    "expenditure = np.array([6,7,9,9,10,12,11,13,13,15,14,16,18,20,19])\n",
    "\n",
    "# %%\n",
    "\n",
    "model = LinearRegression().fit(income,expenditure)\n",
    "\n",
    "R_sq = model.score(income, expenditure)\n",
    "intercept = model.intercept_\n",
    "slope = model.coef_\n",
    "\n",
    "plt.scatter(income,expenditure)\n",
    "plt.xlabel(\"Income\")\n",
    "plt.xlabel(\"Expenditure\")\n",
    "plt.plot(income, intercept + slope *income )\n",
    "plt.show()\n",
    "\n",
    "income_new= np.array([26,28]).reshape(-1,1)\n",
    "pre_value = model.predict(income_new)\n"
   ],
   "metadata": {
    "collapsed": false,
    "pycharm": {
     "name": "#%%  - input\n"
    }
   }
  }
 ],
 "metadata": {
  "kernelspec": {
   "display_name": "Python 3",
   "language": "python",
   "name": "python3"
  },
  "language_info": {
   "codemirror_mode": {
    "name": "ipython",
    "version": 2
   },
   "file_extension": ".py",
   "mimetype": "text/x-python",
   "name": "python",
   "nbconvert_exporter": "python",
   "pygments_lexer": "ipython2",
   "version": "2.7.6"
  }
 },
 "nbformat": 4,
 "nbformat_minor": 0
}